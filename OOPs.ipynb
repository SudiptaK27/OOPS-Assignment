{
  "nbformat": 4,
  "nbformat_minor": 0,
  "metadata": {
    "colab": {
      "provenance": []
    },
    "kernelspec": {
      "name": "python3",
      "display_name": "Python 3"
    },
    "language_info": {
      "name": "python"
    }
  },
  "cells": [
    {
      "cell_type": "markdown",
      "source": [
        "# **Python OOPs Questions**"
      ],
      "metadata": {
        "id": "ow4k6PJT3g1r"
      }
    },
    {
      "cell_type": "markdown",
      "source": [
        "1. What is Object-Oriented Programming (OOP)?\n",
        "\n",
        "Answer:\n",
        "OOP is a programming paradigm where programs are organized around objects rather than actions. It allows you to model real-world things using classes and objects. The four pillars of OOP are:\n",
        "\n",
        "1.Encapsulation\n",
        "\n",
        "2.Abstraction\n",
        "\n",
        "3.Inheritance\n",
        "\n",
        "4.Polymorphism\n",
        "\n"
      ],
      "metadata": {
        "id": "l7k2LF2r3jIu"
      }
    },
    {
      "cell_type": "markdown",
      "source": [
        "2. What is a class in OOP?\n",
        "\n",
        "Answer:\n",
        "A class is like a blueprint for creating objects. It defines the attributes and methods that its objects will have.\n",
        "\n"
      ],
      "metadata": {
        "id": "Xc0EkecM3jLj"
      }
    },
    {
      "cell_type": "code",
      "source": [
        "\n",
        "class Car:\n",
        "    def drive(self):\n",
        "        print(\"Vroom vroom\")"
      ],
      "metadata": {
        "id": "TF0U8fYc4U3E"
      },
      "execution_count": null,
      "outputs": []
    },
    {
      "cell_type": "markdown",
      "source": [
        "3. What is an object in OOP?\n",
        "\n",
        "Answer:\n",
        "An object is an instance of a class. It has the data and behavior defined in the class.\n",
        "\n"
      ],
      "metadata": {
        "id": "aHXGUFRl3jOZ"
      }
    },
    {
      "cell_type": "code",
      "source": [
        "\n",
        "my_car = Car()\n",
        "my_car.drive()  # Output: Vroom vroom"
      ],
      "metadata": {
        "colab": {
          "base_uri": "https://localhost:8080/"
        },
        "id": "L1VNUaJ04ntG",
        "outputId": "448494a5-3b81-4e3a-8541-a0d6ce2d1a42"
      },
      "execution_count": null,
      "outputs": [
        {
          "output_type": "stream",
          "name": "stdout",
          "text": [
            "Vroom vroom\n"
          ]
        }
      ]
    },
    {
      "cell_type": "markdown",
      "source": [
        "4. What is the difference between abstraction and encapsulation?\n",
        "\n",
        "Answer:\n",
        "Abstraction: Hides implementation details and shows only essential features. Think of using a car without knowing how the engine works.\n",
        "\n",
        "Encapsulation: Wraps data and methods together and restricts access to some of the object's components using access modifiers (private, protected).\n",
        "\n"
      ],
      "metadata": {
        "id": "sE3yMYEr3jRC"
      }
    },
    {
      "cell_type": "markdown",
      "source": [
        "5. What are dunder methods in Python?\n",
        "\n",
        "Answer:\n",
        "Dunder (double underscore) methods are special methods with names like __init__, __str__, __repr__. They define how objects behave with built-in Python operations.\n"
      ],
      "metadata": {
        "id": "pXZslGKW3jTe"
      }
    },
    {
      "cell_type": "code",
      "source": [
        "\n",
        "class Dog:\n",
        "    def __str__(self):\n",
        "        return \"I'm a good boi\""
      ],
      "metadata": {
        "id": "7TyQeYfT5IKC"
      },
      "execution_count": null,
      "outputs": []
    },
    {
      "cell_type": "markdown",
      "source": [
        "6. Explain the concept of inheritance in OOP.\n",
        "\n",
        "Answer:\n",
        "Inheritance lets a class (child) inherit attributes and methods from another class (parent).\n",
        "\n"
      ],
      "metadata": {
        "id": "f4wMHr-F3jWX"
      }
    },
    {
      "cell_type": "code",
      "source": [
        "\n",
        "class Animal:\n",
        "    def speak(self):\n",
        "        print(\"Animal sound\")\n",
        "\n",
        "class Dog(Animal):\n",
        "    def speak(self):\n",
        "        print(\"Bark\")"
      ],
      "metadata": {
        "id": "jzmDsqFE3Rcb"
      },
      "execution_count": null,
      "outputs": []
    },
    {
      "cell_type": "markdown",
      "source": [
        "7. What is polymorphism in OOP?\n",
        "\n",
        "Answer:\n",
        "Polymorphism means “many forms”. It lets the same method name behave differently in different classes.\n",
        "\n"
      ],
      "metadata": {
        "id": "2TAltkWy3jZb"
      }
    },
    {
      "cell_type": "code",
      "source": [
        "def make_sound(animal):\n",
        "    animal.speak()\n",
        "\n",
        "class Cat(Animal):\n",
        "    def speak(self):\n",
        "        print(\"Meow\")\n",
        "\n",
        "make_sound(Dog())\n",
        "make_sound(Cat())"
      ],
      "metadata": {
        "colab": {
          "base_uri": "https://localhost:8080/"
        },
        "id": "j5cQKrqH3vd-",
        "outputId": "75f15a66-f47a-4f31-b3f7-db5833b73e38"
      },
      "execution_count": null,
      "outputs": [
        {
          "output_type": "stream",
          "name": "stdout",
          "text": [
            "Bark\n",
            "Meow\n"
          ]
        }
      ]
    },
    {
      "cell_type": "markdown",
      "source": [
        "8. How is encapsulation achieved in Python?\n",
        "\n",
        "Answer:\n",
        "Through private (__var) and protected (_var) variables. It hides the internal state and forces you to use getter/setter methods.\n"
      ],
      "metadata": {
        "id": "pefn3edo3jcW"
      }
    },
    {
      "cell_type": "code",
      "source": [
        "class Person:\n",
        "    def __init__(self):\n",
        "        self.__age = 0  # private\n",
        "\n",
        "    def set_age(self, age):\n",
        "        self.__age = age\n",
        "\n",
        "    def get_age(self):\n",
        "        return self.__age\n"
      ],
      "metadata": {
        "id": "nUGz-uQ46z7P"
      },
      "execution_count": null,
      "outputs": []
    },
    {
      "cell_type": "markdown",
      "source": [
        "9. What is a constructor in Python?\n",
        "\n",
        "Answer:\n",
        "A constructor is a special method called __init__() that is automatically called when an object is created.\n",
        "\n"
      ],
      "metadata": {
        "id": "FrSvh94k6yCp"
      }
    },
    {
      "cell_type": "code",
      "source": [
        "class Student:\n",
        "    def __init__(self, name):\n",
        "        self.name = name"
      ],
      "metadata": {
        "id": "Riivgcr77APw"
      },
      "execution_count": null,
      "outputs": []
    },
    {
      "cell_type": "markdown",
      "source": [
        "10. What are class and static methods in Python?\n",
        "\n",
        "Answer:\n",
        "@classmethod takes cls as the first parameter and can access or modify class state.\n",
        "\n",
        "@staticmethod doesn’t take self or cls. It’s like a regular function inside a class.\n"
      ],
      "metadata": {
        "id": "lQUyFIEu3jfI"
      }
    },
    {
      "cell_type": "code",
      "source": [
        "class Math:\n",
        "    @staticmethod\n",
        "    def add(a, b):\n",
        "        return a + b\n"
      ],
      "metadata": {
        "id": "-Rnt-SYM7NMN"
      },
      "execution_count": null,
      "outputs": []
    },
    {
      "cell_type": "markdown",
      "source": [
        "11. What is method overloading in Python?\n",
        "\n",
        "Answer:\n",
        "Python doesn’t support traditional method overloading. But you can fake it using default arguments or *args.\n",
        "\n"
      ],
      "metadata": {
        "id": "QXkr4eqW3jiM"
      }
    },
    {
      "cell_type": "code",
      "source": [
        "class Greet:\n",
        "    def hello(self, name=None):\n",
        "        if name:\n",
        "            print(f\"Hello {name}\")\n",
        "        else:\n",
        "            print(\"Hello\")"
      ],
      "metadata": {
        "id": "7QGUmYNP7Z1h"
      },
      "execution_count": null,
      "outputs": []
    },
    {
      "cell_type": "markdown",
      "source": [
        "12. What is method overriding in OOP?\n",
        "\n",
        "Answer:\n",
        "When a child class provides a different implementation for a method already defined in the parent class.\n"
      ],
      "metadata": {
        "id": "fvXQE3ro3jlI"
      }
    },
    {
      "cell_type": "code",
      "source": [
        "class Animal:\n",
        "    def speak(self):\n",
        "        print(\"Animal speaks\")\n",
        "\n",
        "class Dog(Animal):\n",
        "    def speak(self):\n",
        "        print(\"Bark\")"
      ],
      "metadata": {
        "id": "Jp9m_RmD7qtg"
      },
      "execution_count": null,
      "outputs": []
    },
    {
      "cell_type": "markdown",
      "source": [
        "13. What is a property decorator in Python?\n",
        "\n",
        "\n",
        "Answer:@property turns a method into a read-only attribute, like a getter.\n"
      ],
      "metadata": {
        "id": "WQGUdJA53joG"
      }
    },
    {
      "cell_type": "code",
      "source": [
        "class Circle:\n",
        "    def __init__(self, radius):\n",
        "        self._radius = radius\n",
        "\n",
        "    @property\n",
        "    def area(self):\n",
        "        return 3.14 * self._radius**2"
      ],
      "metadata": {
        "id": "uh11vvRL8MBo"
      },
      "execution_count": null,
      "outputs": []
    },
    {
      "cell_type": "markdown",
      "source": [
        "14. Why is polymorphism important in OOP?\n",
        "\n",
        "Answer:\n",
        "It allows for flexible and reusable code. You can write code that works on objects of different classes as long as they implement the same method interface.\n",
        "\n"
      ],
      "metadata": {
        "id": "4yovKwHj3jry"
      }
    },
    {
      "cell_type": "markdown",
      "source": [
        "15. What is an abstract class in Python?\n",
        "\n",
        "Answer:\n",
        "An abstract class is a class that can’t be instantiated. It’s meant to be inherited. Use ABC from abc module.\n"
      ],
      "metadata": {
        "id": "O_R8wY8u3jvH"
      }
    },
    {
      "cell_type": "code",
      "source": [
        "from abc import ABC, abstractmethod\n",
        "\n",
        "class Shape(ABC):\n",
        "    @abstractmethod\n",
        "    def area(self):\n",
        "        pass"
      ],
      "metadata": {
        "id": "62lMTsYz85cs"
      },
      "execution_count": null,
      "outputs": []
    },
    {
      "cell_type": "markdown",
      "source": [
        "16. What are the advantages of OOP?\n",
        "\n",
        "Answer:\n",
        "\n",
        "a. Modularity\n",
        "\n",
        "b. Code reuse via inheritance\n",
        "\n",
        "c. Scalability\n",
        "\n",
        "d. Data hiding\n",
        "\n",
        "e. Easier debugging and maintenance"
      ],
      "metadata": {
        "id": "qpcgW9XE3jyC"
      }
    },
    {
      "cell_type": "markdown",
      "source": [
        "17. Difference between a class variable and an instance variable?\n",
        "\n",
        "Answer:\n",
        "Class variable is shared across all instances.\n",
        "\n",
        "Instance variable is unique to each object.\n"
      ],
      "metadata": {
        "id": "DWBIb6vS3j1b"
      }
    },
    {
      "cell_type": "code",
      "source": [
        "class Test:\n",
        "    count = 0  # class var\n",
        "\n",
        "    def __init__(self):\n",
        "        self.id = Test.count  # instance var\n",
        "        Test.count += 1"
      ],
      "metadata": {
        "id": "x0cx17tL9z0T"
      },
      "execution_count": null,
      "outputs": []
    },
    {
      "cell_type": "markdown",
      "source": [
        "18. What is multiple inheritance in Python?\n",
        "\n",
        "Answer:\n",
        "When a class inherits from more than one parent class.\n",
        "\n"
      ],
      "metadata": {
        "id": "Be62aMuj3j4a"
      }
    },
    {
      "cell_type": "code",
      "source": [
        "class A:\n",
        "    pass\n",
        "\n",
        "class B:\n",
        "    pass\n",
        "\n",
        "class C(A, B):\n",
        "\n",
        "    pass\n"
      ],
      "metadata": {
        "id": "6pCu5Jq6-CzP"
      },
      "execution_count": null,
      "outputs": []
    },
    {
      "cell_type": "markdown",
      "source": [
        "19. Purpose of __str__() and __repr__() methods?\n",
        "\n",
        "Answer:\n",
        "__str__() is for user-friendly string (used with print()).\n",
        "\n",
        "__repr__() is for unambiguous object representation (used in debugging)."
      ],
      "metadata": {
        "id": "Q6vpZLPI3j7a"
      }
    },
    {
      "cell_type": "markdown",
      "source": [
        "20. What is the significance of the super() function in Python?\n",
        "\n",
        "Answer:\n",
        "\n",
        "super() lets you call methods from the parent class, especially useful in inheritance.\n",
        "\n"
      ],
      "metadata": {
        "id": "tiaAvEwq3j-i"
      }
    },
    {
      "cell_type": "code",
      "source": [
        "class Parent:\n",
        "    def __init__(self):\n",
        "        print(\"Parent class __init__ called\")\n",
        "\n",
        "class Child(Parent):\n",
        "    def __init__(self):\n",
        "        super().__init__()  # Calls Parent’s __init__()\n",
        "        print(\"Child class __init__ called\")"
      ],
      "metadata": {
        "id": "13Nv95zS-adP"
      },
      "execution_count": null,
      "outputs": []
    },
    {
      "cell_type": "markdown",
      "source": [
        "21. What is the significance of the __del__() method in Python?\n",
        "\n",
        "Answer:\n",
        "It’s the destructor. Called when an object is about to be destroyed (like clean-up).\n",
        "\n",
        "\n",
        "\n"
      ],
      "metadata": {
        "id": "yJtWfSx83kBM"
      }
    },
    {
      "cell_type": "code",
      "source": [
        "def __del__(self):\n",
        "    print(\"Bye bye, object deleted!\")"
      ],
      "metadata": {
        "id": "HqRVSV0E_FYG"
      },
      "execution_count": null,
      "outputs": []
    },
    {
      "cell_type": "markdown",
      "source": [
        "22. Difference between @staticmethod and @classmethod in Python?\n",
        "\n",
        "Answer:\n",
        "@staticmethod:\n",
        "A static method does not take the instance (self) or class (cls) as its first argument. It behaves just like a normal function but is placed inside a class for organizational purposes. Since it doesn’t access class or instance data, it can’t modify the state of the class or object.\n",
        "\n",
        "@classmethod:\n",
        "A class method takes cls (the class itself) as its first argument instead of self. This means it can access or modify class-level variables or methods, but not instance-specific data. Class methods are useful when you want to create factory methods or manipulate class state across all instances.\n",
        "\n"
      ],
      "metadata": {
        "id": "je6VVQ6c3kEJ"
      }
    },
    {
      "cell_type": "markdown",
      "source": [
        "23. How does polymorphism work in Python with inheritance?\n",
        "\n",
        "Answer:\n",
        "Polymorphism works by overriding methods in child classes and calling them through a common interface.\n",
        "\n"
      ],
      "metadata": {
        "id": "IkqwW3Px3kG4"
      }
    },
    {
      "cell_type": "code",
      "source": [
        "\n",
        "animals = [Dog(), Cat()]\n",
        "for a in animals:\n",
        "    a.speak()  # Each calls its own speak()"
      ],
      "metadata": {
        "colab": {
          "base_uri": "https://localhost:8080/"
        },
        "id": "wNP6qlW9__vo",
        "outputId": "07343ae1-38d4-4203-ecb7-d5fd2b04e637"
      },
      "execution_count": null,
      "outputs": [
        {
          "output_type": "stream",
          "name": "stdout",
          "text": [
            "Bark\n",
            "Meow\n"
          ]
        }
      ]
    },
    {
      "cell_type": "markdown",
      "source": [
        "24. What is method chaining in Python OOP?\n",
        "\n",
        "Answer:\n",
        "Calling multiple methods on the same object in one line. To enable it, return self."
      ],
      "metadata": {
        "id": "or8KrTDU3kJo"
      }
    },
    {
      "cell_type": "code",
      "source": [
        "class Builder:\n",
        "    def build(self):\n",
        "        print(\"Build\")\n",
        "        return self\n",
        "\n",
        "    def finish(self):\n",
        "        print(\"Finish\")\n",
        "        return self\n",
        "\n",
        "b = Builder()\n",
        "b.build().finish()"
      ],
      "metadata": {
        "colab": {
          "base_uri": "https://localhost:8080/"
        },
        "id": "Q0n4O6POP2I1",
        "outputId": "f8144de2-0b45-4e88-f2e7-9cf9e06bebc9"
      },
      "execution_count": 1,
      "outputs": [
        {
          "output_type": "stream",
          "name": "stdout",
          "text": [
            "Build\n",
            "Finish\n"
          ]
        },
        {
          "output_type": "execute_result",
          "data": {
            "text/plain": [
              "<__main__.Builder at 0x79a265a47410>"
            ]
          },
          "metadata": {},
          "execution_count": 1
        }
      ]
    },
    {
      "cell_type": "markdown",
      "source": [
        "25. What is the purpose of the __call__() method in Python?\n",
        "\n",
        "Answer:\n",
        "Makes an object callable like a function.\n",
        "\n",
        "\n"
      ],
      "metadata": {
        "id": "PELUMbN93kNS"
      }
    },
    {
      "cell_type": "code",
      "source": [
        "class CallMe:\n",
        "    def __call__(self):\n",
        "        print(\"You rang?\")\n",
        "\n",
        "obj = CallMe()\n",
        "obj()"
      ],
      "metadata": {
        "colab": {
          "base_uri": "https://localhost:8080/"
        },
        "id": "DFTDNTkYQCDw",
        "outputId": "c4993e33-e6f4-4cbe-b760-3041f2a95c15"
      },
      "execution_count": 2,
      "outputs": [
        {
          "output_type": "stream",
          "name": "stdout",
          "text": [
            "You rang?\n"
          ]
        }
      ]
    },
    {
      "cell_type": "markdown",
      "source": [
        "# **Practical Questions**"
      ],
      "metadata": {
        "id": "ClJvXNxb3kQP"
      }
    },
    {
      "cell_type": "code",
      "source": [
        "# 1. Create a parent class Animal with a method speak() that prints a generic message.\n",
        "#    Create a child class Dog that overrides the speak() method to print \"Bark!\".\n",
        "\n",
        "class Animal:\n",
        "    def speak(self):\n",
        "        print(\"Animal speaks something.\")\n",
        "\n",
        "class Dog(Animal):\n",
        "    def speak(self):\n",
        "        print(\"Bark!\")\n",
        "\n",
        "dog = Dog()\n",
        "dog.speak()\n"
      ],
      "metadata": {
        "colab": {
          "base_uri": "https://localhost:8080/"
        },
        "id": "VbkMXe4TQ2eo",
        "outputId": "ef82746b-fc33-44f3-9a3c-ac97aa267ce2"
      },
      "execution_count": 3,
      "outputs": [
        {
          "output_type": "stream",
          "name": "stdout",
          "text": [
            "Bark!\n"
          ]
        }
      ]
    },
    {
      "cell_type": "code",
      "source": [
        "# 2. Write a program to create an abstract class Shape with a method area(). Derive classes Circle and Rectangle from it and implement the area() method in both.\n",
        "\n",
        "from abc import ABC, abstractmethod\n",
        "\n",
        "class Shape(ABC):\n",
        "    @abstractmethod\n",
        "    def area(self):\n",
        "        pass\n",
        "\n",
        "class Circle(Shape):\n",
        "    def __init__(self, radius):\n",
        "        self.radius = radius\n",
        "\n",
        "    def area(self):\n",
        "        return 3.14 * self.radius * self.radius\n",
        "\n",
        "class Rectangle(Shape):\n",
        "    def __init__(self, width, height):\n",
        "        self.width = width\n",
        "        self.height = height\n",
        "\n",
        "    def area(self):\n",
        "        return self.width * self.height\n",
        "\n",
        "c = Circle(5)\n",
        "r = Rectangle(4, 6)\n",
        "print(\"Circle Area:\", c.area())\n",
        "print(\"Rectangle Area:\", r.area())\n"
      ],
      "metadata": {
        "colab": {
          "base_uri": "https://localhost:8080/"
        },
        "id": "AjsJE57aQ2iM",
        "outputId": "f5557f80-60a2-4ed7-b68d-a8c41f408997"
      },
      "execution_count": 22,
      "outputs": [
        {
          "output_type": "stream",
          "name": "stdout",
          "text": [
            "Circle Area: 78.5\n",
            "Rectangle Area: 24\n"
          ]
        }
      ]
    },
    {
      "cell_type": "code",
      "source": [
        "# Implement a multi-level inheritance scenario where a class Vehicle has an attribute type. Derive a class Car and further derive a class ElectricCar that adds a battery attribute\n",
        "\n",
        "class Vehicle:\n",
        "    def __init__(self, type):\n",
        "        self.type = type\n",
        "\n",
        "class Car(Vehicle):\n",
        "    def __init__(self, type, brand):\n",
        "        super().__init__(type)\n",
        "        self.brand = brand\n",
        "\n",
        "class ElectricCar(Car):\n",
        "    def __init__(self, type, brand, battery):\n",
        "        super().__init__(type, brand)\n",
        "        self.battery = battery\n",
        "\n",
        "ecar = ElectricCar(\"Four Wheeler\", \"Tesla\", \"100 kWh\")\n",
        "print(ecar.type, ecar.brand, ecar.battery)\n"
      ],
      "metadata": {
        "colab": {
          "base_uri": "https://localhost:8080/"
        },
        "id": "c3Tt3RLgQ2lw",
        "outputId": "7a317ad2-0e4d-4e98-c654-9b6b884eceee"
      },
      "execution_count": 23,
      "outputs": [
        {
          "output_type": "stream",
          "name": "stdout",
          "text": [
            "Four Wheeler Tesla 100 kWh\n"
          ]
        }
      ]
    },
    {
      "cell_type": "code",
      "source": [
        "# 4. Demonstrate polymorphism by creating a base class Bird with a method fly(). Create two derived classes Sparrow and Penguin that override the fly() method.\n",
        "\n",
        "\n",
        "class Bird:\n",
        "    def fly(self):\n",
        "        print(\"Bird is flying.\")\n",
        "\n",
        "class Sparrow(Bird):\n",
        "    def fly(self):\n",
        "        print(\"Sparrow flies high!\")\n",
        "\n",
        "class Penguin(Bird):\n",
        "    def fly(self):\n",
        "        print(\"Penguins can't fly but they swim.\")\n",
        "\n",
        "for bird in [Sparrow(), Penguin()]:\n",
        "    bird.fly()\n"
      ],
      "metadata": {
        "colab": {
          "base_uri": "https://localhost:8080/"
        },
        "id": "tSxXBbCrQ2p6",
        "outputId": "053ed868-c6c6-430a-d002-29421b977028"
      },
      "execution_count": 6,
      "outputs": [
        {
          "output_type": "stream",
          "name": "stdout",
          "text": [
            "Sparrow flies high!\n",
            "Penguins can't fly but they swim.\n"
          ]
        }
      ]
    },
    {
      "cell_type": "code",
      "source": [
        "# 5. Write a program to demonstrate encapsulation by creating a class BankAccount with private attributes balance and methods to deposit, withdraw, and check balance.\n",
        "\n",
        "class BankAccount:\n",
        "    def __init__(self):\n",
        "        self.__balance = 0\n",
        "\n",
        "    def deposit(self, amount):\n",
        "        self.__balance += amount\n",
        "\n",
        "    def withdraw(self, amount):\n",
        "        if amount <= self.__balance:\n",
        "            self.__balance -= amount\n",
        "        else:\n",
        "            print(\"Insufficient funds.\")\n",
        "\n",
        "    def check_balance(self):\n",
        "        return self.__balance\n",
        "\n",
        "acc = BankAccount()\n",
        "acc.deposit(1000)\n",
        "acc.withdraw(300)\n",
        "print(\"Balance:\", acc.check_balance())\n"
      ],
      "metadata": {
        "colab": {
          "base_uri": "https://localhost:8080/"
        },
        "id": "z1d_BKpkQ2rm",
        "outputId": "43116d39-2c43-4696-9eec-4388f7349033"
      },
      "execution_count": 24,
      "outputs": [
        {
          "output_type": "stream",
          "name": "stdout",
          "text": [
            "Balance: 700\n"
          ]
        }
      ]
    },
    {
      "cell_type": "code",
      "source": [
        "# 6. Demonstrate runtime polymorphism using a method play() in a base class Instrument. Derive classes Guitar and Piano that implement their own version of play().\n",
        "\n",
        "class Instrument:\n",
        "    def play(self):\n",
        "        print(\"Instrument is playing.\")\n",
        "\n",
        "class Guitar(Instrument):\n",
        "    def play(self):\n",
        "        print(\"Guitar is strumming.\")\n",
        "\n",
        "class Piano(Instrument):\n",
        "    def play(self):\n",
        "        print(\"Piano is playing melody.\")\n",
        "\n",
        "def perform(instrument):\n",
        "    instrument.play()\n",
        "\n",
        "perform(Guitar())\n",
        "perform(Piano())\n"
      ],
      "metadata": {
        "colab": {
          "base_uri": "https://localhost:8080/"
        },
        "id": "UIknoFbOQ2tA",
        "outputId": "b2b8736f-14ae-4383-8fac-4113c4aa3dc8"
      },
      "execution_count": 25,
      "outputs": [
        {
          "output_type": "stream",
          "name": "stdout",
          "text": [
            "Guitar is strumming.\n",
            "Piano is playing melody.\n"
          ]
        }
      ]
    },
    {
      "cell_type": "code",
      "source": [
        "# 7. Create a class MathOperations with a class method add_numbers() to add two numbers and a static method subtract_numbers() to subtract two numbers.\n",
        "\n",
        "class MathOperations:\n",
        "    @classmethod\n",
        "    def add_numbers(cls, a, b):\n",
        "        return a + b\n",
        "\n",
        "    @staticmethod\n",
        "    def subtract_numbers(a, b):\n",
        "        return a - b\n",
        "\n",
        "print(\"Addition:\", MathOperations.add_numbers(5, 3))\n",
        "print(\"Subtraction:\", MathOperations.subtract_numbers(10, 4))\n"
      ],
      "metadata": {
        "colab": {
          "base_uri": "https://localhost:8080/"
        },
        "id": "SPdlzVY5Q2wJ",
        "outputId": "e57632b5-659e-4b13-86d4-60673db2afc5"
      },
      "execution_count": 26,
      "outputs": [
        {
          "output_type": "stream",
          "name": "stdout",
          "text": [
            "Addition: 8\n",
            "Subtraction: 6\n"
          ]
        }
      ]
    },
    {
      "cell_type": "code",
      "source": [
        "# 7. Create a class MathOperations with a class method add_numbers() to add two numbers and a static method subtract_numbers() to subtract two numbers.\n",
        "\n",
        "class Person:\n",
        "    count = 0\n",
        "\n",
        "    def __init__(self, name):\n",
        "        self.name = name\n",
        "        Person.count += 1\n",
        "\n",
        "    @classmethod\n",
        "    def total_persons(cls):\n",
        "        return cls.count\n",
        "\n",
        "p1 = Person(\"Alice\")\n",
        "p2 = Person(\"Bob\")\n",
        "print(\"Total Persons:\", Person.total_persons())\n"
      ],
      "metadata": {
        "colab": {
          "base_uri": "https://localhost:8080/"
        },
        "id": "0_MqA7ojQ2zu",
        "outputId": "87017c8d-7b61-47ea-d805-2dcbb1ea1949"
      },
      "execution_count": 27,
      "outputs": [
        {
          "output_type": "stream",
          "name": "stdout",
          "text": [
            "Total Persons: 2\n"
          ]
        }
      ]
    },
    {
      "cell_type": "code",
      "source": [
        "# 9. Write a class Fraction with attributes numerator and denominator. Override the str method to display the fraction as \"numerator/denominator\".\n",
        "\n",
        "class Fraction:\n",
        "    def __init__(self, numerator, denominator):\n",
        "        self.numerator = numerator\n",
        "        self.denominator = denominator\n",
        "\n",
        "    def __str__(self):\n",
        "        return f\"{self.numerator}/{self.denominator}\"\n",
        "\n",
        "f = Fraction(3, 4)\n",
        "print(f)\n"
      ],
      "metadata": {
        "colab": {
          "base_uri": "https://localhost:8080/"
        },
        "id": "F0LvAg7nQ23s",
        "outputId": "fba00b44-b49e-442a-a614-6409890cd97b"
      },
      "execution_count": 28,
      "outputs": [
        {
          "output_type": "stream",
          "name": "stdout",
          "text": [
            "3/4\n"
          ]
        }
      ]
    },
    {
      "cell_type": "code",
      "source": [
        "# 10. Demonstrate operator overloading by creating a class Vector and overriding the add method to add two vectors.\n",
        "\n",
        "class Vector:\n",
        "    def __init__(self, x, y):\n",
        "        self.x = x\n",
        "        self.y = y\n",
        "\n",
        "    def __add__(self, other):\n",
        "        return Vector(self.x + other.x, self.y + other.y)\n",
        "\n",
        "    def __str__(self):\n",
        "        return f\"({self.x}, {self.y})\"\n",
        "\n",
        "v1 = Vector(1, 2)\n",
        "v2 = Vector(3, 4)\n",
        "v3 = v1 + v2\n",
        "print(v3)\n"
      ],
      "metadata": {
        "colab": {
          "base_uri": "https://localhost:8080/"
        },
        "id": "eK0dLtBLQ27P",
        "outputId": "7aa19d52-410b-4544-88c5-942e48219cb8"
      },
      "execution_count": 29,
      "outputs": [
        {
          "output_type": "stream",
          "name": "stdout",
          "text": [
            "(4, 6)\n"
          ]
        }
      ]
    },
    {
      "cell_type": "code",
      "source": [
        "# 11. Create a class Person with attributes name and age. Add a method greet() that prints \"Hello, my name is {name} and I am {age} years old.\"\n",
        "\n",
        "class Person:\n",
        "    def __init__(self, name, age):\n",
        "        self.name = name\n",
        "        self.age = age\n",
        "\n",
        "    def greet(self):\n",
        "        print(f\"Hello, my name is {self.name} and I am {self.age} years old.\")\n",
        "\n",
        "p = Person(\"Sudiptaa\", 21)\n",
        "p.greet()\n"
      ],
      "metadata": {
        "colab": {
          "base_uri": "https://localhost:8080/"
        },
        "id": "xHDDSgN5Q2_I",
        "outputId": "53fb0506-d4c9-4f3e-bb4b-d36406557d70"
      },
      "execution_count": 30,
      "outputs": [
        {
          "output_type": "stream",
          "name": "stdout",
          "text": [
            "Hello, my name is Sudiptaa and I am 21 years old.\n"
          ]
        }
      ]
    },
    {
      "cell_type": "code",
      "source": [
        "# 12. Implement a class Student with attributes name and grades. Create a method average_grade() to compute the average of the grades.\n",
        "\n",
        "class Student:\n",
        "    def __init__(self, name, grades):\n",
        "        self.name = name\n",
        "        self.grades = grades\n",
        "\n",
        "    def average_grade(self):\n",
        "        return sum(self.grades) / len(self.grades)\n",
        "\n",
        "s = Student(\"Sudiptaa\", [85, 90, 78])\n",
        "print(\"Average Grade:\", s.average_grade())\n"
      ],
      "metadata": {
        "colab": {
          "base_uri": "https://localhost:8080/"
        },
        "id": "IUdu4BKLQ3B2",
        "outputId": "9714ad5d-4360-40f3-9773-73e8e43bd121"
      },
      "execution_count": 31,
      "outputs": [
        {
          "output_type": "stream",
          "name": "stdout",
          "text": [
            "Average Grade: 84.33333333333333\n"
          ]
        }
      ]
    },
    {
      "cell_type": "code",
      "source": [
        "# 13. Create a class Rectangle with methods set_dimensions() to set the dimensions and area() to calculate the area.\n",
        "\n",
        "class Rectangle:\n",
        "    def set_dimensions(self, width, height):\n",
        "        self.width = width\n",
        "        self.height = height\n",
        "\n",
        "    def area(self):\n",
        "        return self.width * self.height\n",
        "\n",
        "r = Rectangle()\n",
        "r.set_dimensions(5, 4)\n",
        "print(\"Area:\", r.area())\n"
      ],
      "metadata": {
        "colab": {
          "base_uri": "https://localhost:8080/"
        },
        "id": "IHLREMIVQ3Fa",
        "outputId": "603a1b3c-2fc9-4724-a613-9ece95a1a8d2"
      },
      "execution_count": 15,
      "outputs": [
        {
          "output_type": "stream",
          "name": "stdout",
          "text": [
            "Area: 20\n"
          ]
        }
      ]
    },
    {
      "cell_type": "code",
      "source": [
        "# 14. Create a class Employee with a method calculate_salary() that computes the salary based on hours worked and hourly rate. Create a derived class Manager that adds a bonus to the salary.\n",
        "\n",
        "class Employee:\n",
        "    def calculate_salary(self, hours, rate):\n",
        "        return hours * rate\n",
        "\n",
        "class Manager(Employee):\n",
        "    def calculate_salary(self, hours, rate, bonus):\n",
        "        return super().calculate_salary(hours, rate) + bonus\n",
        "\n",
        "m = Manager()\n",
        "print(\"Manager Salary:\", m.calculate_salary(40, 50, 500))\n"
      ],
      "metadata": {
        "colab": {
          "base_uri": "https://localhost:8080/"
        },
        "id": "aRN5ExIIQ3I1",
        "outputId": "7ef90c6d-930c-458c-a9ba-4997c97c20f9"
      },
      "execution_count": 36,
      "outputs": [
        {
          "output_type": "stream",
          "name": "stdout",
          "text": [
            "Manager Salary: 2500\n"
          ]
        }
      ]
    },
    {
      "cell_type": "code",
      "source": [
        "#15. Create a class Product with attributes name, price, and quantity. Implement a method total_price() that calculates the total price of the product.\n",
        "\n",
        "class Product:\n",
        "    def __init__(self, name, price, quantity):\n",
        "        self.name = name\n",
        "        self.price = price\n",
        "        self.quantity = quantity\n",
        "\n",
        "    def total_price(self):\n",
        "        return self.price * self.quantity\n",
        "\n",
        "p = Product(\"Pen\", 10, 5)\n",
        "print(\"Total Price:\", p.total_price())\n"
      ],
      "metadata": {
        "colab": {
          "base_uri": "https://localhost:8080/"
        },
        "id": "q0P3_4gcQ3Rz",
        "outputId": "bc6a1b4d-581c-4703-99c1-7df6370c4d87"
      },
      "execution_count": 35,
      "outputs": [
        {
          "output_type": "stream",
          "name": "stdout",
          "text": [
            "Total Price: 50\n"
          ]
        }
      ]
    },
    {
      "cell_type": "code",
      "source": [
        "# 16. Create a class Animal with an abstract method sound(). Create two derived classes Cow and Sheep that implement the sound() method.\n",
        "\n",
        "from abc import ABC, abstractmethod\n",
        "\n",
        "class Animal(ABC):\n",
        "    @abstractmethod\n",
        "    def sound(self):\n",
        "        pass\n",
        "\n",
        "class Cow(Animal):\n",
        "    def sound(self):\n",
        "        print(\"Moo\")\n",
        "\n",
        "class Sheep(Animal):\n",
        "    def sound(self):\n",
        "        print(\"Baa\")\n",
        "\n",
        "Cow().sound()\n",
        "Sheep().sound()\n"
      ],
      "metadata": {
        "colab": {
          "base_uri": "https://localhost:8080/"
        },
        "id": "BB1eofTMQ3Vj",
        "outputId": "d3b4f874-32a7-4d0c-eb7c-c952f6229f44"
      },
      "execution_count": 34,
      "outputs": [
        {
          "output_type": "stream",
          "name": "stdout",
          "text": [
            "Moo\n",
            "Baa\n"
          ]
        }
      ]
    },
    {
      "cell_type": "code",
      "source": [
        "# 17. Create a class Book with attributes title, author, and year_published. Add a method get_book_info() that returns a formatted string with the book's details.\n",
        "\n",
        "class Book:\n",
        "    def __init__(self, title, author, year_published):\n",
        "        self.title = title\n",
        "        self.author = author\n",
        "        self.year_published = year_published\n",
        "\n",
        "    def get_book_info(self):\n",
        "        return f\"{self.title} by {self.author} ({self.year_published})\"\n",
        "\n",
        "b = Book(\"Harry Potter\", \"J.K. Rowling\", 1997)\n",
        "print(b.get_book_info())\n"
      ],
      "metadata": {
        "colab": {
          "base_uri": "https://localhost:8080/"
        },
        "id": "QUBPj_tuQ3Y6",
        "outputId": "cfa754ef-9bdb-4323-b764-02da32fae9bb"
      },
      "execution_count": 33,
      "outputs": [
        {
          "output_type": "stream",
          "name": "stdout",
          "text": [
            "Harry Potter by J.K. Rowling (1997)\n"
          ]
        }
      ]
    },
    {
      "cell_type": "code",
      "source": [
        "# 18. Create a class House with attributes address and price. Create a derived class Mansion that adds an attribute number_of_rooms.\n",
        "\n",
        "class House:\n",
        "    def __init__(self, address, price):\n",
        "        self.address = address\n",
        "        self.price = price\n",
        "\n",
        "class Mansion(House):\n",
        "    def __init__(self, address, price, number_of_rooms):\n",
        "        super().__init__(address, price)\n",
        "        self.number_of_rooms = number_of_rooms\n",
        "\n",
        "m = Mansion(\"123 Dream St\", 5000000, 10)\n",
        "print(m.address, m.price, m.number_of_rooms)\n"
      ],
      "metadata": {
        "colab": {
          "base_uri": "https://localhost:8080/"
        },
        "id": "wQmg9St5Q3dp",
        "outputId": "d3ae6170-f359-4077-e8ee-b014e1a7e11e"
      },
      "execution_count": 32,
      "outputs": [
        {
          "output_type": "stream",
          "name": "stdout",
          "text": [
            "123 Dream St 5000000 10\n"
          ]
        }
      ]
    }
  ]
}